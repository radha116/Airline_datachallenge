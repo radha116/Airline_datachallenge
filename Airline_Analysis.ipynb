{
 "cells": [
  {
   "cell_type": "code",
   "execution_count": 1,
   "id": "3d4d2d88-23e0-40d4-9927-94c7892bc131",
   "metadata": {},
   "outputs": [],
   "source": [
    "# data handling libraries\n",
    "import pandas as pd\n",
    "import numpy as np\n",
    "\n",
    "# custom utility functions \n",
    "import functions as fn\n",
    "\n",
    "# Suppress warnings and set float formatting\n",
    "import warnings\n",
    "warnings.filterwarnings(\"ignore\")\n",
    "\n",
    "# Format float display in dataframes to 2 decimal places\n",
    "pd.set_option('display.float_format', lambda x: '%.2f' %x)"
   ]
  },
  {
   "cell_type": "code",
   "execution_count": 2,
   "id": "2155fbad-3598-42fa-9910-a789263f65b6",
   "metadata": {},
   "outputs": [],
   "source": [
    "# Load CSV datasets\n",
    "flights = pd.read_csv(r'C:\\Users\\RadhaPulipati\\capitalone_data_challenge\\data\\Flights.csv', low_memory=False)\n",
    "tickets = pd.read_csv(r'C:\\Users\\RadhaPulipati\\capitalone_data_challenge\\data\\Tickets.csv', low_memory=False)\n",
    "airports = pd.read_csv(r'C:\\Users\\RadhaPulipati\\capitalone_data_challenge\\data\\Airport_Codes.csv', low_memory=False)"
   ]
  },
  {
   "cell_type": "code",
   "execution_count": 3,
   "id": "bfb553c0-47e7-485a-8fe1-a3087d2671d2",
   "metadata": {},
   "outputs": [],
   "source": [
    "# Filter data for valid (non-canceled, round trip) and relevant airports\n",
    "flights = flights[flights['CANCELLED'] == 0]\n",
    "tickets = tickets[tickets['ROUNDTRIP'] == 1]\n",
    "\n",
    "airports = airports[\n",
    "    (airports['ISO_COUNTRY'] == 'US') & \n",
    "    (airports['TYPE'].isin(['medium_airport', 'large_airport']))\n",
    "]"
   ]
  },
  {
   "cell_type": "code",
   "execution_count": 4,
   "id": "2db75880-b8bd-46f3-b452-bc85b1c50198",
   "metadata": {},
   "outputs": [
    {
     "name": "stdout",
     "output_type": "stream",
     "text": [
      "(FL_DATE              1864272\n",
      "OP_CARRIER           1864272\n",
      "TAIL_NUM             1864272\n",
      "OP_CARRIER_FL_NUM    1864272\n",
      "ORIGIN_AIRPORT_ID    1864272\n",
      "ORIGIN               1864272\n",
      "ORIGIN_CITY_NAME     1864272\n",
      "DEST_AIRPORT_ID      1864272\n",
      "DESTINATION          1864272\n",
      "DEST_CITY_NAME       1864272\n",
      "DEP_DELAY            1864272\n",
      "ARR_DELAY            1859895\n",
      "CANCELLED            1864272\n",
      "AIR_TIME             1859245\n",
      "DISTANCE             1863662\n",
      "OCCUPANCY_RATE       1863962\n",
      "dtype: int64, FL_DATE               object\n",
      "OP_CARRIER            object\n",
      "TAIL_NUM              object\n",
      "OP_CARRIER_FL_NUM     object\n",
      "ORIGIN_AIRPORT_ID      int64\n",
      "ORIGIN                object\n",
      "ORIGIN_CITY_NAME      object\n",
      "DEST_AIRPORT_ID        int64\n",
      "DESTINATION           object\n",
      "DEST_CITY_NAME        object\n",
      "DEP_DELAY            float64\n",
      "ARR_DELAY            float64\n",
      "CANCELLED            float64\n",
      "AIR_TIME              object\n",
      "DISTANCE              object\n",
      "OCCUPANCY_RATE       float64\n",
      "dtype: object,        ORIGIN_AIRPORT_ID  DEST_AIRPORT_ID  DEP_DELAY  ARR_DELAY  CANCELLED  \\\n",
      "count         1864272.00       1864272.00 1864272.00 1859895.00 1864272.00   \n",
      "mean            12685.80         12687.10      10.77       5.65       0.00   \n",
      "std              1522.33          1521.97      50.07      52.41       0.00   \n",
      "min             10135.00         10135.00     -63.00     -94.00       0.00   \n",
      "25%             11292.00         11292.00      -6.00     -15.00       0.00   \n",
      "50%             12889.00         12889.00      -2.00      -6.00       0.00   \n",
      "75%             14057.00         14057.00       7.00       8.00       0.00   \n",
      "max             16218.00         16218.00    2941.00    2923.00       0.00   \n",
      "\n",
      "       OCCUPANCY_RATE  \n",
      "count      1863962.00  \n",
      "mean             0.65  \n",
      "std              0.20  \n",
      "min              0.30  \n",
      "25%              0.48  \n",
      "50%              0.65  \n",
      "75%              0.83  \n",
      "max              1.00  , (1864272, 16)) (ITIN_ID              708600\n",
      "YEAR                 708600\n",
      "QUARTER              708600\n",
      "ORIGIN               708600\n",
      "ORIGIN_COUNTRY       708600\n",
      "ORIGIN_STATE_ABR     708600\n",
      "ORIGIN_STATE_NM      708600\n",
      "ROUNDTRIP            708600\n",
      "REPORTING_CARRIER    708600\n",
      "PASSENGERS           707403\n",
      "ITIN_FARE            708040\n",
      "DESTINATION          708600\n",
      "dtype: int64, ITIN_ID                int64\n",
      "YEAR                   int64\n",
      "QUARTER                int64\n",
      "ORIGIN                object\n",
      "ORIGIN_COUNTRY        object\n",
      "ORIGIN_STATE_ABR      object\n",
      "ORIGIN_STATE_NM       object\n",
      "ROUNDTRIP            float64\n",
      "REPORTING_CARRIER     object\n",
      "PASSENGERS           float64\n",
      "ITIN_FARE             object\n",
      "DESTINATION           object\n",
      "dtype: object,               ITIN_ID      YEAR   QUARTER  ROUNDTRIP  PASSENGERS\n",
      "count       708600.00 708600.00 708600.00  708600.00   707403.00\n",
      "mean  173302703960.54   2019.00      1.00       1.00        1.94\n",
      "std    66823744591.07      0.00      0.00       0.00        5.04\n",
      "min        2019119.00   2019.00      1.00       1.00        1.00\n",
      "25%   201911580067.50   2019.00      1.00       1.00        1.00\n",
      "50%   201912831493.00   2019.00      1.00       1.00        1.00\n",
      "75%   201914009202.50   2019.00      1.00       1.00        1.00\n",
      "max   201915258097.00   2019.00      1.00       1.00      681.00, (708600, 12)) (TYPE            858\n",
      "NAME            858\n",
      "ELEVATION_FT    855\n",
      "CONTINENT         0\n",
      "ISO_COUNTRY     858\n",
      "MUNICIPALITY    855\n",
      "IATA_CODE       821\n",
      "COORDINATES     858\n",
      "dtype: int64, TYPE             object\n",
      "NAME             object\n",
      "ELEVATION_FT    float64\n",
      "CONTINENT        object\n",
      "ISO_COUNTRY      object\n",
      "MUNICIPALITY     object\n",
      "IATA_CODE        object\n",
      "COORDINATES      object\n",
      "dtype: object,        ELEVATION_FT\n",
      "count        855.00\n",
      "mean        1166.20\n",
      "std         1613.55\n",
      "min         -115.00\n",
      "25%           97.50\n",
      "50%          559.00\n",
      "75%         1290.00\n",
      "max         7820.00, (858, 8))\n"
     ]
    }
   ],
   "source": [
    "#summary_statistics() function from custom function.py fn module)\n",
    "#Prints descriptive statistics for each dataset\n",
    "print(fn.summary_statistics(flights),fn.summary_statistics(tickets),fn.summary_statistics(airports))"
   ]
  },
  {
   "cell_type": "code",
   "execution_count": 5,
   "id": "8e890b5c-206d-48f1-83e8-fe7d07f3b1b9",
   "metadata": {},
   "outputs": [
    {
     "name": "stdout",
     "output_type": "stream",
     "text": [
      "Flights - Total Rows Before Cleaning: 1864272\n",
      "Flights - Duplicate Rows Found: 4410\n",
      "Flights - Total Rows After Removing Duplicates: 1859862\n",
      "Tickets - Total Rows Before Cleaning: 708600\n",
      "Tickets - Duplicate Rows Found: 47564\n",
      "Tickets - Total Rows After Removing Duplicates: 661036\n",
      "Airports - Total Rows Before Cleaning: 858\n",
      "Airports - Duplicate Rows Found: 0\n",
      "Airports - Total Rows After Removing Duplicates: 858\n"
     ]
    }
   ],
   "source": [
    "# Removes duplicate rows from flights, tickets, and airports datasets using custom (function.py) fn module returns log counts\n",
    "flights = fn.find_and_remove_duplicates(flights, \"Flights\")\n",
    "tickets = fn.find_and_remove_duplicates(tickets, \"Tickets\")\n",
    "airports = fn.find_and_remove_duplicates(airports, \"Airports\")"
   ]
  },
  {
   "cell_type": "code",
   "execution_count": 6,
   "id": "2b50eebf-6c25-406a-8af8-bc0fcf8b489d",
   "metadata": {},
   "outputs": [],
   "source": [
    "# Drop irrelevant columns to focus analysis on key metrics\n",
    "flights=flights.drop(['OP_CARRIER','OP_CARRIER_FL_NUM','ORIGIN_AIRPORT_ID','DEST_AIRPORT_ID','CANCELLED','AIR_TIME'],axis=1)\n",
    "tickets=tickets.drop(['ITIN_ID','YEAR', 'QUARTER', 'ORIGIN_COUNTRY', 'ORIGIN_STATE_ABR', 'REPORTING_CARRIER', 'ORIGIN_STATE_NM'],axis=1)\n",
    "airports=airports.drop(['CONTINENT','ISO_COUNTRY','MUNICIPALITY','ELEVATION_FT'],axis=1)"
   ]
  },
  {
   "cell_type": "code",
   "execution_count": 7,
   "id": "b182bd72-0dd7-43f9-a046-9832816d84b1",
   "metadata": {},
   "outputs": [],
   "source": [
    "# Data types formatting from object into appropriate numerical and datetime formats.\n",
    "fn.to_number(flights,['DISTANCE'])\n",
    "fn.to_number(tickets,['ITIN_FARE'])\n",
    "\n",
    "#Convert date from object to date\n",
    "flights['FL_DATE'] = pd.to_datetime(flights['FL_DATE'], format='mixed', dayfirst=False)"
   ]
  },
  {
   "cell_type": "code",
   "execution_count": 8,
   "id": "5fd87241-0cad-4ab0-a7b9-1ee62e3a4235",
   "metadata": {
    "scrolled": true
   },
   "outputs": [
    {
     "data": {
      "image/png": "[encoded data removed]",
      "text/plain": [
       "<Figure size 400x200 with 1 Axes>"
      ]
     },
     "metadata": {},
     "output_type": "display_data"
    },
    {
     "name": "stdout",
     "output_type": "stream",
     "text": [
      "DEP_DELAY - Lower (1.0%): -15.0, Upper (99.0%): 202.0\n"
     ]
    },
    {
     "data": {
      "image/png": "[encoded data removed]",
      "text/plain": [
       "<Figure size 400x200 with 1 Axes>"
      ]
     },
     "metadata": {},
     "output_type": "display_data"
    },
    {
     "data": {
      "image/png": "[encoded data removed]",
      "text/plain": [
       "<Figure size 400x200 with 1 Axes>"
      ]
     },
     "metadata": {},
     "output_type": "display_data"
    },
    {
     "name": "stdout",
     "output_type": "stream",
     "text": [
      "ARR_DELAY - Lower (1.0%): -38.0, Upper (99.0%): 202.0\n"
     ]
    },
    {
     "data": {
      "image/png": "[encoded data removed]",
      "text/plain": [
       "<Figure size 400x200 with 1 Axes>"
      ]
     },
     "metadata": {},
     "output_type": "display_data"
    },
    {
     "data": {
      "image/png": "[encoded data removed]",
      "text/plain": [
       "<Figure size 400x200 with 1 Axes>"
      ]
     },
     "metadata": {},
     "output_type": "display_data"
    },
    {
     "name": "stdout",
     "output_type": "stream",
     "text": [
      "ITIN_FARE - Lower (1.0%): 11.0, Upper (95.0%): 1024.0\n"
     ]
    },
    {
     "data": {
      "image/png": "[encoded data removed]",
      "text/plain": [
       "<Figure size 400x200 with 1 Axes>"
      ]
     },
     "metadata": {},
     "output_type": "display_data"
    }
   ],
   "source": [
    "#  Removes outliers from flight delays (1%-99% percentile) and ticket fares (1%-95%) using custom (function.py) fn module.\n",
    "flights = fn.remove_outliers(flights, ['DEP_DELAY', 'ARR_DELAY'], 0.01, 0.99, plot=True)\n",
    "tickets = fn.remove_outliers(tickets, ['ITIN_FARE'], 0.01, 0.95, plot=True)"
   ]
  },
  {
   "cell_type": "code",
   "execution_count": 9,
   "id": "4402d670-3653-41d6-bec9-da708a022ccc",
   "metadata": {},
   "outputs": [
    {
     "name": "stdout",
     "output_type": "stream",
     "text": [
      "Filled 268 nulls in numeric column 'DISTANCE' with median value 612.0.\n",
      "Filled 31 nulls in numeric column 'OCCUPANCY_RATE' with median value 0.65.\n",
      "Filled 960 nulls in numeric column 'PASSENGERS' with median value 1.0.\n",
      "Dropped 37 rows due to nulls in object column 'IATA_CODE'.\n"
     ]
    }
   ],
   "source": [
    "# Exclude rows where object data type is missing and numeric replace with median\n",
    "flights, flights_summary = fn.clean_nan_data(flights)\n",
    "tickets, tickets_summary = fn.clean_nan_data(tickets)\n",
    "airports, airports_summary = fn.clean_nan_data(airports)\n",
    "\n",
    "# Print summaries\n",
    "print(\"\\n\".join(flights_summary))\n",
    "print(\"\\n\".join(tickets_summary))\n",
    "print(\"\\n\".join(airports_summary))"
   ]
  },
  {
   "cell_type": "code",
   "execution_count": 10,
   "id": "174eaf71-452c-496d-a30d-003c59caf3a4",
   "metadata": {},
   "outputs": [],
   "source": [
    "# Final Verification of data integrity after cleaning - to check consistent row counts and summary stats across all datasets\n",
    "#print (fn.summary_statistics(flights),\"\\n\", fn.summary_statistics(tickets), \"\\n\", fn.summary_statistics(airports))"
   ]
  },
  {
   "cell_type": "markdown",
   "id": "df2e02e7-116b-4d78-8d01-fde98082f03c",
   "metadata": {},
   "source": [
    "## Merging and Transforming datasets:\n",
    "\n",
    "- Tickets Data: Created a consistent ROUTE identifier by sorting origin/destination IATA codes alphabetically (e.g., JFK-LAX for both JFK→LAX and LAX→JFK).\n",
    "- Flights Data: Applied the same sorting logic to ensure bidirectional routes are treated identically.\n",
    "- Calculated median fares per route, accounting for ticket frequency to better represent revenue potential.\n",
    "- Enriched flight data with airport types (medium_airport/large_airport) by merging:\n",
    "- Once for origins (added as ORIGIN_TYPE)\n",
    "- Once for destinations (added as DESTINATION_TYPE)\n",
    "- Combined flight data with aggregated ticket statistics using the standardized ROUTE key.\n",
    "- Used a left join to preserve all flights even if ticket data was missing (though filtered later for round-trip pairs)"
   ]
  },
  {
   "cell_type": "markdown",
   "id": "190b1605-c0fd-49b0-80e9-9f7c44b799ce",
   "metadata": {},
   "source": [
    "## New field with metadata description\n",
    "\n",
    "- Route: Combines the ORIGIN and DESTINATION airport codes into a standardized route string, sorted alphabetically and separated by a hyphen. This ensures that the route identifier is consistent regardless of flight direction (ATL-JFK is the same as JFK-ATL).\n",
    "- Data Type: String\n",
    "\n"
   ]
  },
  {
   "cell_type": "code",
   "execution_count": 13,
   "id": "81c6e1e4-ae17-4013-b9ac-bbf3caedfae2",
   "metadata": {},
   "outputs": [],
   "source": [
    "#consistent route identifiers for tickets\n",
    "tickets['ROUTE'] = tickets.apply(lambda x: '-'.join(sorted([x['ORIGIN'], x['DESTINATION']])), axis=1)"
   ]
  },
  {
   "cell_type": "code",
   "execution_count": 14,
   "id": "e9c7af57-0f07-493f-a03c-7d6dbdf25248",
   "metadata": {},
   "outputs": [],
   "source": [
    "ticket_stats =tickets.groupby('ROUTE').agg({'ITIN_FARE': np.median}).reset_index().\\\n",
    "                                                            rename(columns={'ITIN_FARE': 'ITIN_FARE_MEDIAN'})"
   ]
  },
  {
   "cell_type": "code",
   "execution_count": 15,
   "id": "ceccecc6-a996-410c-9f70-bca75fd5d0de",
   "metadata": {},
   "outputs": [],
   "source": [
    "airports = airports[['IATA_CODE', 'TYPE', 'COORDINATES']]\n",
    "flights = flights.merge(airports, left_on='ORIGIN', right_on='IATA_CODE', how='inner', suffixes=('', '_origin')).rename(columns={\\\n",
    "    'TYPE': 'ORIGIN_TYPE', 'COORDINATES': 'ORIGIN_COORDINATES'})\n",
    "\n",
    "flights = flights.merge(airports, left_on='DESTINATION', right_on='IATA_CODE', how='inner', suffixes=('', '_destination')).rename(columns={\\\n",
    "    'TYPE': 'DESTINATION_TYPE', 'COORDINATES': 'DESTINATION_COORDINATES'})\n",
    "\n",
    "flights = flights.drop(columns=['IATA_CODE','TAIL_NUM', 'IATA_CODE_destination'], errors='ignore')"
   ]
  },
  {
   "cell_type": "code",
   "execution_count": 16,
   "id": "14d1f187-3f56-4ab7-83ff-f7c904c5c94f",
   "metadata": {},
   "outputs": [],
   "source": [
    "#Create consistent route identifiers for flights\n",
    "flights['ROUTE'] = flights.apply(lambda x: '-'.join(sorted([x['ORIGIN'], x['DESTINATION']])), axis=1)"
   ]
  },
  {
   "cell_type": "code",
   "execution_count": 17,
   "id": "cb01b652-36e6-42f6-8ae4-c7d7518f681e",
   "metadata": {},
   "outputs": [],
   "source": [
    "flights = flights.merge(ticket_stats, on='ROUTE', how='left')"
   ]
  },
  {
   "cell_type": "markdown",
   "id": "c0e1801a-d500-4ddd-82d4-9fce7935b21a",
   "metadata": {},
   "source": [
    "# Calculated fields for Costs Analysis"
   ]
  },
  {
   "cell_type": "code",
   "execution_count": 19,
   "id": "6a8d7765-d192-4b34-80fe-9069b1899db5",
   "metadata": {},
   "outputs": [],
   "source": [
    "# Estimate Passenger Count from Occupancy Rate\n",
    "flights['PASSENGERS']= flights['OCCUPANCY_RATE'].apply(fn.number_of_passengers)"
   ]
  },
  {
   "cell_type": "code",
   "execution_count": 20,
   "id": "9eb4246b-68a4-4da0-911d-98ecd0677a93",
   "metadata": {},
   "outputs": [],
   "source": [
    "# --- Delay Costs ---\n",
    "# Compute delay-related costs based on arrival and departure delays.\n",
    "# First 15 minutes are free; $75 charged per minute beyond that per delay type.\n",
    "\n",
    "flights['ARR_DELAY_COSTS']= flights['ARR_DELAY'].apply(fn.delay_costs)\n",
    "flights['DEP_DELAY_COSTS']= flights['DEP_DELAY'].apply(fn.delay_costs)\n",
    "\n",
    "flights['TOTAL_DELAY_COST'] = flights['DEP_DELAY_COSTS'] + flights['ARR_DELAY_COSTS']"
   ]
  },
  {
   "cell_type": "code",
   "execution_count": 21,
   "id": "d6900d7c-3567-4288-8b4a-3b1fb74a1fd3",
   "metadata": {},
   "outputs": [],
   "source": [
    "# --- Airport Costs ---\n",
    "# Calculate fixed airport operational fees per round trip.\n",
    "# Large airports incur $10,000 per landing, medium airports $5,000.\n",
    "\n",
    "flights['ORIGIN_AIRPORT_COST'] = np.where(flights['ORIGIN_TYPE'] == 'large_airport', 10000, 5000)\n",
    "flights['DEST_AIRPORT_COST'] = np.where(flights['DESTINATION_TYPE'] == 'large_airport', 10000, 5000)\n",
    "flights['AIRPORT_COSTS'] = flights['ORIGIN_AIRPORT_COST'] + flights['DEST_AIRPORT_COST']"
   ]
  },
  {
   "cell_type": "code",
   "execution_count": 22,
   "id": "4484868e-a9fa-4182-adbf-7f20fe410b89",
   "metadata": {},
   "outputs": [],
   "source": [
    "# --- Fuel, Oil, Maintenance, Crew Costs,Depreciation, Insurance, Other Costs---\n",
    "# Distance-based variable costs calculated at $8 per mile.\n",
    "# Additional distance-based costs calculated at $1.18 per mile.\n",
    "# Combined with the above to form total mileage-related operational expenses.\n",
    "\n",
    "flights['MILEAGE_COSTS']= flights['DISTANCE'].apply(fn.costs_per_mile)"
   ]
  },
  {
   "cell_type": "code",
   "execution_count": 23,
   "id": "ea606785-69a4-4da1-999e-364100088b7d",
   "metadata": {},
   "outputs": [],
   "source": [
    "# --- Revenue Calculations ---\n",
    "# Estimate total revenue per flight from two components:\n",
    "# 1. Ticket Revenue – based on median fare and estimated passengers using occupancy rate.\n",
    "# 2. Baggage Revenue – assumes 50% of passengers check one bag at $35 per leg (round trip = 2 legs).\n",
    "\n",
    "flights['BAGGAGE_REVENUE'] = flights['PASSENGERS'] * 35 * 0.5 * 2 #For round trip\n",
    "flights['TICKET_REVENUE'] = flights['PASSENGERS']*flights['ITIN_FARE_MEDIAN']\n",
    "flights['TOTAL_REVENUE'] = flights['TICKET_REVENUE'] + flights['BAGGAGE_REVENUE']"
   ]
  },
  {
   "cell_type": "code",
   "execution_count": 24,
   "id": "83a134d0-7466-4ed1-96c4-070539e6a27d",
   "metadata": {},
   "outputs": [],
   "source": [
    "# Calculate total cost and revenue per flight    \n",
    "\n",
    "flights['TOTAL_COSTS']= (flights['TOTAL_DELAY_COST']+flights['AIRPORT_COSTS']+flights['MILEAGE_COSTS'])\n",
    "flights['TOTAL_PROFIT'] = flights['TOTAL_REVENUE'] - flights['TOTAL_COSTS']\n",
    "                                  \n",
    "flights['PROFIT_PER_FLIGHT'] = flights['TOTAL_PROFIT']/flights.groupby('ROUTE')['ROUTE'].transform('count')\n"
   ]
  },
  {
   "cell_type": "code",
   "execution_count": 25,
   "id": "5f87f8cd-2137-492c-821c-3ae18f413b1a",
   "metadata": {},
   "outputs": [],
   "source": [
    "flights['ROUND_TRIP'] = flights.apply(lambda x: '-'.join(sorted([x['ORIGIN_CITY_NAME'], x['DEST_CITY_NAME']])), axis=1)"
   ]
  },
  {
   "cell_type": "markdown",
   "id": "1ac15aca-7fd7-49af-9290-f40a0a2f7014",
   "metadata": {},
   "source": [
    "## Metric-Based Data Categorization"
   ]
  },
  {
   "cell_type": "code",
   "execution_count": 27,
   "id": "25e0612f-ca98-4d5a-a2ab-db30cb2b3c58",
   "metadata": {},
   "outputs": [],
   "source": [
    "# Count actual round trips by finding matching outbound/return flights on same date\n",
    "round_trip_flights = flights.groupby(['ROUTE', 'FL_DATE']).filter(lambda x: len(x['ORIGIN'].unique()) == 2)"
   ]
  },
  {
   "cell_type": "code",
   "execution_count": 28,
   "id": "3f7144d2-b727-48ee-ab22-b285ae79b5dd",
   "metadata": {},
   "outputs": [],
   "source": [
    "# --- Aggregate by ROUND_TRIP route ---\n",
    "route_summary = round_trip_flights.groupby('ROUTE').agg({\n",
    "    'TOTAL_PROFIT': 'sum',\n",
    "    'TOTAL_REVENUE': 'sum',\n",
    "    'TOTAL_COSTS': 'sum',\n",
    "    'TICKET_REVENUE': 'sum',\n",
    "    'BAGGAGE_REVENUE': 'sum',\n",
    "    'PASSENGERS': 'sum',\n",
    "    'DISTANCE': 'mean',\n",
    "    'TOTAL_DELAY_COST': 'sum',\n",
    "    'DEP_DELAY_COSTS': 'sum',\n",
    "    'ARR_DELAY_COSTS': 'sum',\n",
    "    'MILEAGE_COSTS': 'sum',\n",
    "    'AIRPORT_COSTS': 'sum',\n",
    "    'FL_DATE': 'count',\n",
    "    'PROFIT_PER_FLIGHT': 'mean',\n",
    "    'DEP_DELAY': 'mean',\n",
    "    'ARR_DELAY': 'mean',\n",
    "    'ITIN_FARE_MEDIAN': 'mean',\n",
    "    'OCCUPANCY_RATE': 'mean'   \n",
    "}).reset_index().rename(columns={\n",
    "    'FL_DATE': 'FLIGHT_COUNT',\n",
    "    'DEP_DELAY': 'AVG_DEP_DELAY',\n",
    "    'ARR_DELAY': 'AVG_ARR_DELAY',\n",
    "}).reset_index()"
   ]
  },
  {
   "cell_type": "markdown",
   "id": "768a95bd-dfb4-494c-bb85-86086c88038d",
   "metadata": {},
   "source": [
    "## Additional metrics"
   ]
  },
  {
   "cell_type": "code",
   "execution_count": 30,
   "id": "518812bc-6312-44df-8f28-a44a495f3ccc",
   "metadata": {},
   "outputs": [],
   "source": [
    "# return on investment\n",
    "route_summary['ROI'] = (route_summary['TOTAL_PROFIT']/route_summary['TOTAL_COSTS'])*100\n",
    "route_summary['LOAD_FACTOR'] = (route_summary['PASSENGERS'] / (200 * route_summary['FLIGHT_COUNT'])) * 100\n",
    "route_summary['RASM'] = route_summary['TOTAL_REVENUE'] / (200 * route_summary['DISTANCE'] * route_summary['FLIGHT_COUNT'])\n",
    "route_summary['CASM'] = route_summary['TOTAL_COSTS'] / (200 * route_summary['DISTANCE'] * route_summary['FLIGHT_COUNT'])"
   ]
  },
  {
   "cell_type": "markdown",
   "id": "dc9c1329-44fd-40da-99da-e0a219d42b89",
   "metadata": {},
   "source": [
    "# Question 1: Top 10 Busiest Round-Trip Routes (by Flight Count)\n",
    "\n",
    "- This analysis identifies the top 10 round-trip city pairs with the highest number of completed (non-canceled) flights in Q1 2019.\n",
    "- It provides insight into the most frequently operated routes, helping to gauge travel demand and inform resource allocation.\n",
    "- Only active flights are considered, ensuring the focus remains on actual operational performance."
   ]
  },
  {
   "cell_type": "code",
   "execution_count": 32,
   "id": "307504f2-7b90-4211-af72-f406854c304f",
   "metadata": {},
   "outputs": [
    {
     "name": "stdout",
     "output_type": "stream",
     "text": [
      "Top 10 Busiest Round Trip Routes in 1st quarter:\n",
      "         ROUTE  FLIGHT_COUNT\n",
      "2140  LAX-SFO          8340\n",
      "2180  LGA-ORD          7156\n",
      "2045  LAS-LAX          6511\n",
      "1989  JFK-LAX          6320\n",
      "2139  LAX-SEA          4999\n",
      "542   BOS-LGA          4820\n",
      "1751  HNL-OGG          4794\n",
      "2590  PDX-SEA          4774\n",
      "189   ATL-MCO          4707\n",
      "185   ATL-LGA          4594\n"
     ]
    }
   ],
   "source": [
    "# Count flights for each round trip route\n",
    "top_busiest_routes = route_summary.sort_values('FLIGHT_COUNT', ascending=False).head(10)\n",
    "\n",
    "print(\"Top 10 Busiest Round Trip Routes in 1st quarter:\\n\", top_busiest_routes[['ROUTE', 'FLIGHT_COUNT']])\n"
   ]
  },
  {
   "cell_type": "markdown",
   "id": "605909c3-1fca-46af-8229-0194a1504f92",
   "metadata": {},
   "source": [
    "## Question 2: Top 10 most profitable round trip routes\n",
    "This analysis ranks the top 10 round-trip routes by total profit during the first quarter of 2019, excluding canceled flights and upfront airplane costs. Profit is calculated by subtracting total operational costs (e.g., fuel, delays, airport fees, depreciation) from total revenue (ticket sales and baggage fees). The output includes each route’s total revenue, total cost, total profit, and number of completed flights."
   ]
  },
  {
   "cell_type": "code",
   "execution_count": 34,
   "id": "28cec3a4-6cd7-4541-b794-efdd6915d764",
   "metadata": {},
   "outputs": [
    {
     "name": "stdout",
     "output_type": "stream",
     "text": [
      "\n",
      "Top 10 Most Profitable Round Trip Routes in 1st quarter:\n",
      "\n",
      "        ROUTE  TOTAL_PROFIT  TOTAL_REVENUE  TOTAL_COSTS  FLIGHT_COUNT\n",
      "1117  DCA-ORD  152808294.80   252095571.00  99287276.20          3695\n",
      "131   ATL-CLT  135134828.32   204783444.00  69648615.68          3076\n",
      "1101  DCA-LGA  127816979.32   207374552.00  79557572.68          3359\n",
      "838   CLT-GSP  126039000.50   159176160.00  33137159.50          1547\n",
      "2140  LAX-SFO  120960920.60   330178970.00 209218049.40          8340\n",
      "542   BOS-LGA  120096223.60   234032882.00 113936658.40          4820\n",
      "2406  MSP-ORD  119294676.20   203440104.00  84145427.80          3440\n",
      "2180  LGA-ORD  115301051.36   321442996.00 206141944.64          7156\n",
      "140   ATL-DCA  113291083.52   202820886.00  89529802.48          3488\n",
      "1290  DFW-IAH  111553331.40   180050832.00  68497500.60          2955\n"
     ]
    }
   ],
   "source": [
    "profitable_routes = route_summary.sort_values('TOTAL_PROFIT', ascending=False).head(10)\n",
    " \n",
    "print(\"\\nTop 10 Most Profitable Round Trip Routes in 1st quarter:\\n\")\n",
    "print(profitable_routes[['ROUTE', 'TOTAL_PROFIT', 'TOTAL_REVENUE', 'TOTAL_COSTS', 'FLIGHT_COUNT']])\n",
    "                                                                                            "
   ]
  },
  {
   "cell_type": "markdown",
   "id": "41af4fef-c683-4ec3-82f0-1591af716997",
   "metadata": {},
   "source": [
    "### High Profitable Round Trip Routes Summary:\n",
    "These routes showed the highest total profits in Q1 and should be prioritized for continued investment and optimization:\n",
    "\n",
    "- DCA-ORD – 152.8M profit across 3,695 flights\n",
    "- ATL-CLT – 135.1M profit with strong ROI\n",
    "- DCA-LGA – 127.8M profit consistently strong performer\n",
    "- CLT-GSP – 126M profit and also a recommended investment route"
   ]
  },
  {
   "cell_type": "markdown",
   "id": "d5ef6e81-6969-4ed7-8208-891a7e48c430",
   "metadata": {},
   "source": [
    "## Question 3: Recommend 5 Best Routes to Invest In\n",
    "This analysis identifies the most promising U.S. domestic round trip flight routes for investment, based on Q1 2019 operational data. The goal is to select 5 optimal routes for launching new services using dedicated aircraft, with a strong focus on profitability and punctuality.\n",
    "\n",
    "*key factors considered with combined score metrics:*\n",
    "- Return on Investment (ROI): Measures how efficiently each route converts operating costs into profit. (40% weight)\n",
    "- Total Profit: Captures overall earnings from each route in the quarter. (30% weight)\n",
    "- Flight Volume: Indicates demand and scalability potential. (10% weight)\n",
    "- Average Delays: Reflects punctuality, a critical factor aligned with the airlines ,\"On time, for you\" brand. (20% weight)"
   ]
  },
  {
   "cell_type": "code",
   "execution_count": 37,
   "id": "fd2adfce-6fd3-47ea-b794-f95689135a19",
   "metadata": {
    "scrolled": true
   },
   "outputs": [
    {
     "name": "stdout",
     "output_type": "stream",
     "text": [
      "\n",
      "Top 5 Recommended Routes to Invest In:\n",
      "        ROUTE  COMBINED_SCORE    ROI  TOTAL_PROFIT  FLIGHT_COUNT  \\\n",
      "2294  MDT-PHL            0.77 631.58   83918469.84           793   \n",
      "838   CLT-GSP            0.70 380.36  126039000.50          1547   \n",
      "846   CLT-ILM            0.68 409.24  103787857.50          1465   \n",
      "873   CLT-MYR            0.65 401.21   91866162.96          1354   \n",
      "837   CLT-GSO            0.64 338.80  107784698.22          1487   \n",
      "\n",
      "      AVG_DEP_DELAY  AVG_ARR_DELAY  \n",
      "2294           3.67           3.69  \n",
      "838            5.20          -1.83  \n",
      "846            3.72          -1.18  \n",
      "873            1.96          -3.84  \n",
      "837            3.52          -2.59  \n"
     ]
    }
   ],
   "source": [
    "route_summary['COMBINED_SCORE'] = (\n",
    "    0.4 * route_summary['ROI'] / route_summary['ROI'].max() +\n",
    "    0.3 * route_summary['TOTAL_PROFIT'] / route_summary['TOTAL_PROFIT'].max() +\n",
    "    0.2 * (1 - (route_summary['AVG_DEP_DELAY'] + route_summary['AVG_ARR_DELAY']) / (route_summary['AVG_DEP_DELAY'].max() + route_summary['AVG_ARR_DELAY'].max())) +\n",
    "    0.1 * route_summary['FLIGHT_COUNT'] / route_summary['FLIGHT_COUNT'].max()\n",
    ")\n",
    "\n",
    "recommended_routes = route_summary.sort_values('COMBINED_SCORE', ascending=False).head(5)\n",
    "\n",
    "print(\"\\nTop 5 Recommended Routes to Invest In:\")\n",
    "print(recommended_routes[['ROUTE','COMBINED_SCORE','ROI', 'TOTAL_PROFIT', 'FLIGHT_COUNT', 'AVG_DEP_DELAY','AVG_ARR_DELAY']])"
   ]
  },
  {
   "cell_type": "markdown",
   "id": "880911ed-b8d0-4a15-9b82-23f18065fbce",
   "metadata": {},
   "source": [
    "### Top 5 Recommended Routes Summary:\n",
    "These routes show strong ROI, high profitability per flight, and relatively low average delays:\n",
    "\n",
    "- MDT-PHL – Highest ROI (631.58%), low delays, breakeven best case at just 708 flights\n",
    "- CLT-GSP – High combined score (0.70), profitable, already among top 10 routes\n",
    "- CLT-ILM – Strong ROI (409.24%), good profit with minimal delay\n",
    "- CLT-MYR – Excellent ROI and very low arrival delays (-3.84 mins avg)\n",
    "- CLT-GSO – Over $100M in profit with reliable on-time performance"
   ]
  },
  {
   "cell_type": "markdown",
   "id": "39271d2c-492d-4c40-a7f2-15affffa8a57",
   "metadata": {},
   "source": [
    "## Question 4: # Breakeven round-trip flights on the upfront airplane cost \n",
    "This analysis calculates the number of flights required for 5 recommended round-trip airline routes to breakeven on an upfront airplane cost of $90M. It considers:\n",
    "\n",
    "- Added sensitivity analysis showing best-case/worst-case scenarios  (+20%, -20%)\n",
    "- Risk AssessmentHelps assess financial risk under different scenarios.\n",
    "- Accounts for potential variability in profit per flight"
   ]
  },
  {
   "cell_type": "code",
   "execution_count": 40,
   "id": "fcb3a505-d9f1-4cf1-8944-0277d92b112b",
   "metadata": {
    "scrolled": true
   },
   "outputs": [
    {
     "name": "stdout",
     "output_type": "stream",
     "text": [
      "\n",
      "Breakeven Analysis for Recommended Routes:\n",
      "        ROUTE  PROFIT_PER_FLIGHT  BREAKEVEN_FLIGHTS  BREAKEVEN_BEST_CASE  BREAKEVEN_WORST_CASE\n",
      "2294  MDT-PHL          105824.05             850.47               708.72               1063.09\n",
      "1067  DAY-DTW           92799.87             969.83               808.19               1212.29\n",
      "1251  DEN-SUN           87271.25            1031.27               859.39               1289.08\n",
      "838   CLT-GSP           81473.17            1104.66               920.55               1380.82\n",
      "1962  ISP-PHL           80871.52            1112.88               927.40               1391.10\n"
     ]
    }
   ],
   "source": [
    "# Calculate breakeven metrics\n",
    "airplane_cost = 90000000 \n",
    "\n",
    "# Calculate profit per flight safely (handle division by zero)\n",
    "route_summary['PROFIT_PER_FLIGHT'] = (route_summary['TOTAL_PROFIT'] / route_summary['FLIGHT_COUNT']).replace(0, np.nan)\n",
    "route_summary['BREAKEVEN_FLIGHTS'] = (airplane_cost / route_summary['PROFIT_PER_FLIGHT'])\n",
    "\n",
    "# Sensitivity analysis (best/worst case)\n",
    "route_summary['BEST_CASE_PROFIT'] = route_summary['PROFIT_PER_FLIGHT'] * 1.2  # 20% higher\n",
    "route_summary['WORST_CASE_PROFIT'] = route_summary['PROFIT_PER_FLIGHT'] * 0.8  # 20% lower\n",
    "\n",
    "route_summary['BREAKEVEN_BEST_CASE'] = (airplane_cost / route_summary['BEST_CASE_PROFIT'])\n",
    "route_summary['BREAKEVEN_WORST_CASE'] = (airplane_cost / route_summary['WORST_CASE_PROFIT'])\n",
    "\n",
    "route_summary = route_summary.sort_values('PROFIT_PER_FLIGHT', ascending=False).head(5)\n",
    "\n",
    "# Display results\n",
    "print(\"\\nBreakeven Analysis for Recommended Routes:\")\n",
    "cols_to_show = ['ROUTE', 'PROFIT_PER_FLIGHT', 'BREAKEVEN_FLIGHTS', 'BREAKEVEN_BEST_CASE', 'BREAKEVEN_WORST_CASE']\n",
    "print(route_summary[cols_to_show].to_string())"
   ]
  },
  {
   "cell_type": "markdown",
   "id": "8482591c-7d06-4c7f-a1d4-eb70ff7d1007",
   "metadata": {},
   "source": [
    "### Breakeven Analysis for Recommended Routes Summary:\n",
    "The following routes show favorable breakeven flight volumes, indicating high feasibility for reaching profitability quickly:\n",
    "\n",
    "- MDT-PHL – Breaks even in as few as 708 flights (best case)\n",
    "- CLT-GSP – Breaks even in 920 to 1,380 flights\n",
    "- DEN-SUN, DAY-DTW, and ISP-PHL – All show high per-flight profitability and manageable breakeven thresholds"
   ]
  },
  {
   "cell_type": "code",
   "execution_count": 42,
   "id": "526b2a51-dcdb-4936-9082-1c3aee9d862d",
   "metadata": {},
   "outputs": [],
   "source": [
    "#------------------------------------------------KPI &Summary--------------------------------------------------"
   ]
  },
  {
   "cell_type": "markdown",
   "id": "453d8588-843c-464b-9974-300776cadeef",
   "metadata": {},
   "source": [
    "## Question 5: Key Performance Indicators (KPIs) for Round Trip Routes\n",
    "\n",
    "- Load Factor (passenger capacity utilization)\n",
    "- RASM (Revenue per Available Seat Mile)\n",
    "- CASM (Cost per Available Seat Mile)\n",
    "- OnTime Performance metrics\n"
   ]
  },
  {
   "cell_type": "code",
   "execution_count": 44,
   "id": "89482708-85d1-44cf-b913-ee042ed5557d",
   "metadata": {},
   "outputs": [
    {
     "name": "stdout",
     "output_type": "stream",
     "text": [
      "Average Load Factor: 65.00432666783888 %\n"
     ]
    }
   ],
   "source": [
    "print(\"Average Load Factor:\", route_summary['LOAD_FACTOR'].mean(), \"%\")"
   ]
  },
  {
   "cell_type": "code",
   "execution_count": 45,
   "id": "7b288c13-f92c-4518-9fc8-6600b616b70e",
   "metadata": {},
   "outputs": [
    {
     "name": "stdout",
     "output_type": "stream",
     "text": [
      "Average RASM (Revenue per Available Seat Mile): 4.4743746668083615\n"
     ]
    }
   ],
   "source": [
    "print(\"Average RASM (Revenue per Available Seat Mile):\", route_summary['RASM'].mean())"
   ]
  },
  {
   "cell_type": "code",
   "execution_count": 46,
   "id": "07b36843-22cf-4fea-b5ce-ff47beaa299a",
   "metadata": {},
   "outputs": [
    {
     "name": "stdout",
     "output_type": "stream",
     "text": [
      "Average CASM (Cost per Available Seat Mile): 0.7904507207321467\n"
     ]
    }
   ],
   "source": [
    "print(\"Average CASM (Cost per Available Seat Mile):\", route_summary['CASM'].mean())"
   ]
  },
  {
   "cell_type": "code",
   "execution_count": 47,
   "id": "b93c70de-ff73-48ad-9fef-7c540df2c64d",
   "metadata": {},
   "outputs": [
    {
     "name": "stdout",
     "output_type": "stream",
     "text": [
      "On-Time Departure Rate: 82.96%\n",
      "On-Time Arrival Rate: 81.98%\n"
     ]
    }
   ],
   "source": [
    "#On-time Performance (Departure and Arrival Delays)\n",
    "on_time_departure = (flights['DEP_DELAY'] <= 15).mean() * 100\n",
    "on_time_arrival = (flights['ARR_DELAY'] <= 15).mean() * 100\n",
    "\n",
    "print(f\"On-Time Departure Rate: {on_time_departure:.2f}%\")\n",
    "print(f\"On-Time Arrival Rate: {on_time_arrival:.2f}%\")"
   ]
  },
  {
   "cell_type": "markdown",
   "id": "ee89a2b8-199c-4182-b817-eb7afc476280",
   "metadata": {},
   "source": [
    "## Recommendations:\n",
    "- Invest in top-scoring routes with strong ROI and fast breakeven potential, especially MDT-PHL and CLT regional routes.\n",
    "- Maintain and expand service on high-profit legacy routes, such as DCA-ORD and ATL-CLT, to secure continued revenue growth.\n",
    "- Leverage CLT as a strategic hub, focusing on regional connectivity to maximize profitability and route efficiency.\n",
    "\n",
    "## Conclusion:\n",
    "\n",
    "Investing in data-driven, high-performing routes with strong profitability and operational efficiency will strengthen financial returns. Focused expansion around proven hubs like CLT, alongside disciplined performance tracking, will ensure sustainable and scalable route growth.\n",
    "## Key Metrics for Success\n",
    "Monitoring effectively Key Performance Indicators (KPIs): Tableau Market Analysis Dashboard\n",
    "- Total Revenue per Route: Measures the overall income generated by each route.\n",
    "- Total Costs per Route: Tracks all operational expenses associated with each route.\n",
    "- Profit Margin per Route: (Total Revenue - Total Costs) / Total Revenue, indicating the profitability of each route.\n",
    "- Return on Investment (ROI) per Route: (Total Profit / Total Costs) * 100, assessing the efficiency of capital utilization.\n",
    "- On-Time Performance (Departure & Arrival): Percentage of flights departing and arriving within 15 minutes of the scheduled time.\n",
    "\n",
    "By consistently monitoring these KPIs, the airline can gain valuable insights into the financial viability, operational efficiency, and customer perception of each route. This data-driven approach will enable informed decisions regarding route adjustments, marketing efforts, and overall strategic direction to ensure sustainable and profitable growth in the US domestic market."
   ]
  }
 ],
 "metadata": {
  "kernelspec": {
   "display_name": "Python 3 (ipykernel)",
   "language": "python",
   "name": "python3"
  },
  "language_info": {
   "codemirror_mode": {
    "name": "ipython",
    "version": 3
   },
   "file_extension": ".py",
   "mimetype": "text/x-python",
   "name": "python",
   "nbconvert_exporter": "python",
   "pygments_lexer": "ipython3",
   "version": "3.12.4"
  }
 },
 "nbformat": 4,
 "nbformat_minor": 5
}
